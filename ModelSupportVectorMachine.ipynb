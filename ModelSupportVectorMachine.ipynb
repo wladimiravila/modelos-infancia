{
 "cells": [
  {
   "cell_type": "markdown",
   "metadata": {
    "collapsed": false,
    "jupyter": {
     "outputs_hidden": false
    }
   },
   "source": [
    "# MSV Municipios Norte del Cauca"
   ]
  },
  {
   "cell_type": "code",
   "execution_count": 1,
   "metadata": {
    "ExecuteTime": {
     "end_time": "2024-07-18T23:12:11.211480Z",
     "start_time": "2024-07-18T23:11:55.206869Z"
    }
   },
   "outputs": [
    {
     "name": "stdout",
     "output_type": "stream",
     "text": [
      "Requirement already satisfied: pandas in /Users/wladimiravila/Documents/Models/modelos-infancia/lib/python3.9/site-packages (2.2.2)\r\n",
      "Requirement already satisfied: tzdata>=2022.7 in /Users/wladimiravila/Documents/Models/modelos-infancia/lib/python3.9/site-packages (from pandas) (2024.1)\r\n",
      "Requirement already satisfied: pytz>=2020.1 in /Users/wladimiravila/Documents/Models/modelos-infancia/lib/python3.9/site-packages (from pandas) (2024.1)\r\n",
      "Requirement already satisfied: python-dateutil>=2.8.2 in /Users/wladimiravila/Documents/Models/modelos-infancia/lib/python3.9/site-packages (from pandas) (2.9.0.post0)\r\n",
      "Requirement already satisfied: numpy>=1.22.4 in /Users/wladimiravila/Documents/Models/modelos-infancia/lib/python3.9/site-packages (from pandas) (2.0.0)\r\n",
      "Requirement already satisfied: six>=1.5 in /Users/wladimiravila/Documents/Models/modelos-infancia/lib/python3.9/site-packages (from python-dateutil>=2.8.2->pandas) (1.16.0)\r\n",
      "\r\n",
      "\u001B[1m[\u001B[0m\u001B[34;49mnotice\u001B[0m\u001B[1;39;49m]\u001B[0m\u001B[39;49m A new release of pip available: \u001B[0m\u001B[31;49m22.3.1\u001B[0m\u001B[39;49m -> \u001B[0m\u001B[32;49m24.1.2\u001B[0m\r\n",
      "\u001B[1m[\u001B[0m\u001B[34;49mnotice\u001B[0m\u001B[1;39;49m]\u001B[0m\u001B[39;49m To update, run: \u001B[0m\u001B[32;49mpip install --upgrade pip\u001B[0m\r\n",
      "Requirement already satisfied: scikit-learn in /Users/wladimiravila/Documents/Models/modelos-infancia/lib/python3.9/site-packages (1.5.1)\r\n",
      "Requirement already satisfied: threadpoolctl>=3.1.0 in /Users/wladimiravila/Documents/Models/modelos-infancia/lib/python3.9/site-packages (from scikit-learn) (3.5.0)\r\n",
      "Requirement already satisfied: joblib>=1.2.0 in /Users/wladimiravila/Documents/Models/modelos-infancia/lib/python3.9/site-packages (from scikit-learn) (1.4.2)\r\n",
      "Requirement already satisfied: numpy>=1.19.5 in /Users/wladimiravila/Documents/Models/modelos-infancia/lib/python3.9/site-packages (from scikit-learn) (2.0.0)\r\n",
      "Requirement already satisfied: scipy>=1.6.0 in /Users/wladimiravila/Documents/Models/modelos-infancia/lib/python3.9/site-packages (from scikit-learn) (1.13.1)\r\n",
      "\r\n",
      "\u001B[1m[\u001B[0m\u001B[34;49mnotice\u001B[0m\u001B[1;39;49m]\u001B[0m\u001B[39;49m A new release of pip available: \u001B[0m\u001B[31;49m22.3.1\u001B[0m\u001B[39;49m -> \u001B[0m\u001B[32;49m24.1.2\u001B[0m\r\n",
      "\u001B[1m[\u001B[0m\u001B[34;49mnotice\u001B[0m\u001B[1;39;49m]\u001B[0m\u001B[39;49m To update, run: \u001B[0m\u001B[32;49mpip install --upgrade pip\u001B[0m\r\n",
      "Requirement already satisfied: matplotlib in /Users/wladimiravila/Documents/Models/modelos-infancia/lib/python3.9/site-packages (3.9.1)\r\n",
      "Requirement already satisfied: numpy>=1.23 in /Users/wladimiravila/Documents/Models/modelos-infancia/lib/python3.9/site-packages (from matplotlib) (2.0.0)\r\n",
      "Requirement already satisfied: kiwisolver>=1.3.1 in /Users/wladimiravila/Documents/Models/modelos-infancia/lib/python3.9/site-packages (from matplotlib) (1.4.5)\r\n",
      "Requirement already satisfied: fonttools>=4.22.0 in /Users/wladimiravila/Documents/Models/modelos-infancia/lib/python3.9/site-packages (from matplotlib) (4.53.1)\r\n",
      "Requirement already satisfied: pyparsing>=2.3.1 in /Users/wladimiravila/Documents/Models/modelos-infancia/lib/python3.9/site-packages (from matplotlib) (3.1.2)\r\n",
      "Requirement already satisfied: cycler>=0.10 in /Users/wladimiravila/Documents/Models/modelos-infancia/lib/python3.9/site-packages (from matplotlib) (0.12.1)\r\n",
      "Requirement already satisfied: pillow>=8 in /Users/wladimiravila/Documents/Models/modelos-infancia/lib/python3.9/site-packages (from matplotlib) (10.4.0)\r\n",
      "Requirement already satisfied: contourpy>=1.0.1 in /Users/wladimiravila/Documents/Models/modelos-infancia/lib/python3.9/site-packages (from matplotlib) (1.2.1)\r\n",
      "Requirement already satisfied: python-dateutil>=2.7 in /Users/wladimiravila/Documents/Models/modelos-infancia/lib/python3.9/site-packages (from matplotlib) (2.9.0.post0)\r\n",
      "Requirement already satisfied: importlib-resources>=3.2.0 in /Users/wladimiravila/Documents/Models/modelos-infancia/lib/python3.9/site-packages (from matplotlib) (6.4.0)\r\n",
      "Requirement already satisfied: packaging>=20.0 in /Users/wladimiravila/Documents/Models/modelos-infancia/lib/python3.9/site-packages (from matplotlib) (24.1)\r\n",
      "Requirement already satisfied: zipp>=3.1.0 in /Users/wladimiravila/Documents/Models/modelos-infancia/lib/python3.9/site-packages (from importlib-resources>=3.2.0->matplotlib) (3.19.2)\r\n",
      "Requirement already satisfied: six>=1.5 in /Users/wladimiravila/Documents/Models/modelos-infancia/lib/python3.9/site-packages (from python-dateutil>=2.7->matplotlib) (1.16.0)\r\n",
      "\r\n",
      "\u001B[1m[\u001B[0m\u001B[34;49mnotice\u001B[0m\u001B[1;39;49m]\u001B[0m\u001B[39;49m A new release of pip available: \u001B[0m\u001B[31;49m22.3.1\u001B[0m\u001B[39;49m -> \u001B[0m\u001B[32;49m24.1.2\u001B[0m\r\n",
      "\u001B[1m[\u001B[0m\u001B[34;49mnotice\u001B[0m\u001B[1;39;49m]\u001B[0m\u001B[39;49m To update, run: \u001B[0m\u001B[32;49mpip install --upgrade pip\u001B[0m\r\n",
      "Requirement already satisfied: seaborn in /Users/wladimiravila/Documents/Models/modelos-infancia/lib/python3.9/site-packages (0.13.2)\r\n",
      "Requirement already satisfied: matplotlib!=3.6.1,>=3.4 in /Users/wladimiravila/Documents/Models/modelos-infancia/lib/python3.9/site-packages (from seaborn) (3.9.1)\r\n",
      "Requirement already satisfied: numpy!=1.24.0,>=1.20 in /Users/wladimiravila/Documents/Models/modelos-infancia/lib/python3.9/site-packages (from seaborn) (2.0.0)\r\n",
      "Requirement already satisfied: pandas>=1.2 in /Users/wladimiravila/Documents/Models/modelos-infancia/lib/python3.9/site-packages (from seaborn) (2.2.2)\r\n",
      "Requirement already satisfied: packaging>=20.0 in /Users/wladimiravila/Documents/Models/modelos-infancia/lib/python3.9/site-packages (from matplotlib!=3.6.1,>=3.4->seaborn) (24.1)\r\n",
      "Requirement already satisfied: cycler>=0.10 in /Users/wladimiravila/Documents/Models/modelos-infancia/lib/python3.9/site-packages (from matplotlib!=3.6.1,>=3.4->seaborn) (0.12.1)\r\n",
      "Requirement already satisfied: fonttools>=4.22.0 in /Users/wladimiravila/Documents/Models/modelos-infancia/lib/python3.9/site-packages (from matplotlib!=3.6.1,>=3.4->seaborn) (4.53.1)\r\n",
      "Requirement already satisfied: contourpy>=1.0.1 in /Users/wladimiravila/Documents/Models/modelos-infancia/lib/python3.9/site-packages (from matplotlib!=3.6.1,>=3.4->seaborn) (1.2.1)\r\n",
      "Requirement already satisfied: pillow>=8 in /Users/wladimiravila/Documents/Models/modelos-infancia/lib/python3.9/site-packages (from matplotlib!=3.6.1,>=3.4->seaborn) (10.4.0)\r\n",
      "Requirement already satisfied: python-dateutil>=2.7 in /Users/wladimiravila/Documents/Models/modelos-infancia/lib/python3.9/site-packages (from matplotlib!=3.6.1,>=3.4->seaborn) (2.9.0.post0)\r\n",
      "Requirement already satisfied: kiwisolver>=1.3.1 in /Users/wladimiravila/Documents/Models/modelos-infancia/lib/python3.9/site-packages (from matplotlib!=3.6.1,>=3.4->seaborn) (1.4.5)\r\n",
      "Requirement already satisfied: importlib-resources>=3.2.0 in /Users/wladimiravila/Documents/Models/modelos-infancia/lib/python3.9/site-packages (from matplotlib!=3.6.1,>=3.4->seaborn) (6.4.0)\r\n",
      "Requirement already satisfied: pyparsing>=2.3.1 in /Users/wladimiravila/Documents/Models/modelos-infancia/lib/python3.9/site-packages (from matplotlib!=3.6.1,>=3.4->seaborn) (3.1.2)\r\n",
      "Requirement already satisfied: tzdata>=2022.7 in /Users/wladimiravila/Documents/Models/modelos-infancia/lib/python3.9/site-packages (from pandas>=1.2->seaborn) (2024.1)\r\n",
      "Requirement already satisfied: pytz>=2020.1 in /Users/wladimiravila/Documents/Models/modelos-infancia/lib/python3.9/site-packages (from pandas>=1.2->seaborn) (2024.1)\r\n",
      "Requirement already satisfied: zipp>=3.1.0 in /Users/wladimiravila/Documents/Models/modelos-infancia/lib/python3.9/site-packages (from importlib-resources>=3.2.0->matplotlib!=3.6.1,>=3.4->seaborn) (3.19.2)\r\n",
      "Requirement already satisfied: six>=1.5 in /Users/wladimiravila/Documents/Models/modelos-infancia/lib/python3.9/site-packages (from python-dateutil>=2.7->matplotlib!=3.6.1,>=3.4->seaborn) (1.16.0)\r\n",
      "\r\n",
      "\u001B[1m[\u001B[0m\u001B[34;49mnotice\u001B[0m\u001B[1;39;49m]\u001B[0m\u001B[39;49m A new release of pip available: \u001B[0m\u001B[31;49m22.3.1\u001B[0m\u001B[39;49m -> \u001B[0m\u001B[32;49m24.1.2\u001B[0m\r\n",
      "\u001B[1m[\u001B[0m\u001B[34;49mnotice\u001B[0m\u001B[1;39;49m]\u001B[0m\u001B[39;49m To update, run: \u001B[0m\u001B[32;49mpip install --upgrade pip\u001B[0m\r\n",
      "Requirement already satisfied: scipy in /Users/wladimiravila/Documents/Models/modelos-infancia/lib/python3.9/site-packages (1.13.1)\r\n",
      "Requirement already satisfied: numpy<2.3,>=1.22.4 in /Users/wladimiravila/Documents/Models/modelos-infancia/lib/python3.9/site-packages (from scipy) (2.0.0)\r\n",
      "\r\n",
      "\u001B[1m[\u001B[0m\u001B[34;49mnotice\u001B[0m\u001B[1;39;49m]\u001B[0m\u001B[39;49m A new release of pip available: \u001B[0m\u001B[31;49m22.3.1\u001B[0m\u001B[39;49m -> \u001B[0m\u001B[32;49m24.1.2\u001B[0m\r\n",
      "\u001B[1m[\u001B[0m\u001B[34;49mnotice\u001B[0m\u001B[1;39;49m]\u001B[0m\u001B[39;49m To update, run: \u001B[0m\u001B[32;49mpip install --upgrade pip\u001B[0m\r\n",
      "Requirement already satisfied: numpy in /Users/wladimiravila/Documents/Models/modelos-infancia/lib/python3.9/site-packages (2.0.0)\r\n",
      "\r\n",
      "\u001B[1m[\u001B[0m\u001B[34;49mnotice\u001B[0m\u001B[1;39;49m]\u001B[0m\u001B[39;49m A new release of pip available: \u001B[0m\u001B[31;49m22.3.1\u001B[0m\u001B[39;49m -> \u001B[0m\u001B[32;49m24.1.2\u001B[0m\r\n",
      "\u001B[1m[\u001B[0m\u001B[34;49mnotice\u001B[0m\u001B[1;39;49m]\u001B[0m\u001B[39;49m To update, run: \u001B[0m\u001B[32;49mpip install --upgrade pip\u001B[0m\r\n"
     ]
    }
   ],
   "source": [
    "!pip install pandas\n",
    "!pip install scikit-learn\n",
    "!pip install matplotlib\n",
    "!pip install seaborn\n",
    "!pip install scipy\n",
    "!pip install numpy"
   ]
  },
  {
   "cell_type": "code",
   "execution_count": 8,
   "metadata": {
    "ExecuteTime": {
     "end_time": "2024-07-18T23:19:22.513130Z",
     "start_time": "2024-07-18T23:19:22.505646Z"
    }
   },
   "outputs": [],
   "source": [
    "import pandas as pd\n",
    "import numpy as np\n",
    "from sklearn.model_selection import train_test_split, GridSearchCV, RandomizedSearchCV, cross_val_score\n",
    "from sklearn.preprocessing import StandardScaler\n",
    "from sklearn.svm import SVC\n",
    "from sklearn.metrics import accuracy_score, classification_report, confusion_matrix\n",
    "from sklearn.metrics import roc_curve, auc\n",
    "from sklearn.preprocessing import label_binarize\n",
    "import matplotlib.pyplot as plt\n",
    "import seaborn as sns\n",
    "from scipy.stats import uniform, loguniform"
   ]
  },
  {
   "cell_type": "code",
   "execution_count": 9,
   "metadata": {
    "collapsed": false,
    "jupyter": {
     "outputs_hidden": false
    },
    "ExecuteTime": {
     "end_time": "2024-07-18T23:19:27.066527Z",
     "start_time": "2024-07-18T23:19:24.742006Z"
    }
   },
   "outputs": [],
   "source": [
    "path = 'dataset/datasetFinalTesisValle_NCauca.csv'\n",
    "data = pd.read_csv(path)\n"
   ]
  },
  {
   "cell_type": "markdown",
   "metadata": {},
   "source": [
    "Si se desea correr para \n",
    "\n",
    "76 => Valle del Cauca \n",
    "\n",
    "19 => Cauca\n",
    "\n",
    "ó para todos quitar la condicion\n",
    "\n",
    "\n"
   ]
  },
  {
   "cell_type": "code",
   "execution_count": 10,
   "metadata": {
    "ExecuteTime": {
     "end_time": "2024-07-18T23:19:30.248012Z",
     "start_time": "2024-07-18T23:19:30.202709Z"
    }
   },
   "outputs": [],
   "source": [
    "df = data.loc[data['cod_dpto'] == 19].dropna(subset=['clasificacion_letter'])\n",
    "#df = data.dropna(subset=['clasificacion_letter'])"
   ]
  },
  {
   "cell_type": "code",
   "execution_count": 11,
   "metadata": {
    "ExecuteTime": {
     "end_time": "2024-07-18T23:19:31.200737Z",
     "start_time": "2024-07-18T23:19:31.187128Z"
    }
   },
   "outputs": [
    {
     "name": "stdout",
     "output_type": "stream",
     "text": [
      "    cod_dpto  cod_mpio  cod_clase  cod_barrio  cod_vereda  cod_corregimiento  \\\n",
      "0         19     19455          2           0         333                  0   \n",
      "11        19     19780          1         212           0                  0   \n",
      "95        19     19110          3           0           0                  2   \n",
      "\n",
      "    cod_comuna  tot_viviendas  tot_hogares  tip_vivienda  ...  ind_estudia  \\\n",
      "0           99              0            1             3  ...            9   \n",
      "11          99              0            1             1  ...            9   \n",
      "95          99              0            1             1  ...            9   \n",
      "\n",
      "    clasificacion_letter  sum_gastos  sum_ingresos  ide_ficha_origen_hogar  \\\n",
      "0                      A           0             0  19455915512800003130-1   \n",
      "11                     A           0             0  19780009530500000012-1   \n",
      "95                     B      105000             0  19110273542300000457-1   \n",
      "\n",
      "    max_nivel_educativo_en_hogar  alguien_hogar_empleado_o_similar  \\\n",
      "0                              3                                 0   \n",
      "11                             2                                 0   \n",
      "95                             3                                 0   \n",
      "\n",
      "    alguien_hogar_cotiza_pension  sum_ingresos_hogar  sum_gastos_hogar  \n",
      "0                              0                   0                 0  \n",
      "11                             0                   0                 0  \n",
      "95                             0              180000            315000  \n",
      "\n",
      "[3 rows x 70 columns]\n"
     ]
    }
   ],
   "source": [
    "print(df.head(3))\n",
    "\n",
    "label_mapping = {'A': 0, 'B': 1, 'C': 2, 'D': 3}\n",
    "df['clasificacion_letter_numeric'] = df['clasificacion_letter'].map(label_mapping)"
   ]
  },
  {
   "cell_type": "markdown",
   "metadata": {},
   "source": [
    "# Normalizar Columnas no Categoricas"
   ]
  },
  {
   "cell_type": "code",
   "execution_count": 12,
   "metadata": {
    "ExecuteTime": {
     "end_time": "2024-07-18T23:19:34.402633Z",
     "start_time": "2024-07-18T23:19:34.384497Z"
    }
   },
   "outputs": [],
   "source": [
    "X = df[\n",
    "    ['edad_calculada','cod_dpto', 'cod_mpio', 'cod_clase', 'cod_barrio', 'cod_vereda', 'cod_corregimiento', 'cod_comuna', 'tip_vivienda',\n",
    "     'tip_mat_paredes', 'tip_mat_pisos', 'ind_tiene_energia', 'ind_tiene_gas', 'num_cuartos_exclusivos',\n",
    "     'num_cuartos_unicos_dormir', 'tip_sanitario', 'tip_uso_sanitario', 'tip_origen_agua', 'tip_uso_agua_beber',\n",
    "     'ind_tiene_cocina', 'tip_prepara_alimentos', 'tip_uso_cocina', 'tip_energia_cocina',\n",
    "      'num_personas_hogar', 'num_habita_vivienda', 'ind_tiene_internet', 'ind_evento_avalancha','ind_evento_inundacion',\n",
    "     'max_nivel_educativo_en_hogar', 'alguien_hogar_empleado_o_similar', 'alguien_hogar_cotiza_pension',\n",
    "     'sum_ingresos_hogar', 'sum_gastos_hogar']]\n",
    "y = df['clasificacion_letter_numeric']\n"
   ]
  },
  {
   "cell_type": "code",
   "execution_count": 13,
   "outputs": [
    {
     "name": "stderr",
     "output_type": "stream",
     "text": [
      "/var/folders/vh/c65wsrm94x92d8rfk33vvpwr0000gn/T/ipykernel_49772/438794017.py:7: SettingWithCopyWarning: \n",
      "A value is trying to be set on a copy of a slice from a DataFrame.\n",
      "Try using .loc[row_indexer,col_indexer] = value instead\n",
      "\n",
      "See the caveats in the documentation: https://pandas.pydata.org/pandas-docs/stable/user_guide/indexing.html#returning-a-view-versus-a-copy\n",
      "  X[columns_to_normalize] = scaler.fit_transform(X[columns_to_normalize])\n"
     ]
    }
   ],
   "source": [
    "import pandas as pd\n",
    "\n",
    "scaler = StandardScaler()\n",
    "\n",
    "columns_to_normalize = ['sum_ingresos_hogar', 'sum_gastos_hogar']\n",
    "\n",
    "X[columns_to_normalize] = scaler.fit_transform(X[columns_to_normalize])\n"
   ],
   "metadata": {
    "collapsed": false,
    "ExecuteTime": {
     "end_time": "2024-07-18T23:19:35.721197Z",
     "start_time": "2024-07-18T23:19:35.683228Z"
    }
   }
  },
  {
   "cell_type": "markdown",
   "metadata": {},
   "source": [
    "## Creacion del Modelo Base con columnas seleccionadas"
   ]
  },
  {
   "cell_type": "code",
   "execution_count": 14,
   "metadata": {
    "ExecuteTime": {
     "end_time": "2024-07-18T23:19:40.420801Z",
     "start_time": "2024-07-18T23:19:40.386024Z"
    }
   },
   "outputs": [],
   "source": [
    "X_train, X_test, y_train, y_test = train_test_split(X, y, test_size=0.2, random_state=42)\n",
    "model = SVC(probability=True, random_state=42)\n"
   ]
  },
  {
   "cell_type": "markdown",
   "metadata": {},
   "source": [
    "\n"
   ]
  },
  {
   "cell_type": "code",
   "execution_count": null,
   "metadata": {
    "is_executing": true,
    "ExecuteTime": {
     "start_time": "2024-07-18T23:19:52.369455Z"
    }
   },
   "outputs": [],
   "source": [
    "import pandas as pd\n",
    "import numpy as np\n",
    "from sklearn.model_selection import train_test_split, GridSearchCV, RandomizedSearchCV, cross_val_score\n",
    "from sklearn.preprocessing import StandardScaler\n",
    "from sklearn.svm import SVC\n",
    "from sklearn.metrics import accuracy_score, classification_report, confusion_matrix\n",
    "from sklearn.metrics import roc_curve, auc\n",
    "from sklearn.preprocessing import label_binarize\n",
    "import matplotlib.pyplot as plt\n",
    "import seaborn as sns\n",
    "from scipy.stats import uniform, loguniform\n",
    "\n",
    "\n",
    "param_distributions = {\n",
    "    'C': loguniform(1e-3, 1e3),\n",
    "    'kernel': ['rbf', 'poly', 'sigmoid'],\n",
    "    'gamma': ['scale', 'auto'] + list(loguniform(1e-4, 1e0).rvs(10)),\n",
    "    'degree': [2, 3, 4, 5],  # para kernel 'poly'\n",
    "    'class_weight': ['balanced', None]\n",
    "}\n",
    "\n",
    "random_search = RandomizedSearchCV(\n",
    "    model, param_distributions, n_iter=100, cv=5,\n",
    "    scoring='accuracy', n_jobs=-1, random_state=42\n",
    ")\n",
    "random_search.fit(X_train, y_train)\n",
    "\n",
    "print(\"Mejores parámetros de búsqueda aleatoria:\", random_search.best_params_)\n",
    "print(\"Mejor puntuación de búsqueda aleatoria:\", random_search.best_score_)\n",
    "\n",
    "\n",
    "best_params = random_search.best_params_\n",
    "param_grid = {\n",
    "    'C': [best_params['C'] / 10, best_params['C'], best_params['C'] * 10],\n",
    "    'kernel': [best_params['kernel']],\n",
    "    'gamma': [best_params['gamma']] if best_params['gamma'] in ['scale', 'auto'] else [best_params['gamma'] / 10, best_params['gamma'], best_params['gamma'] * 10],\n",
    "    'degree': [best_params['degree']] if best_params['kernel'] == 'poly' else [3],\n",
    "    'class_weight': [best_params['class_weight']]\n",
    "}\n",
    "\n",
    "grid_search = GridSearchCV(\n",
    "    model, param_grid, cv=5, scoring='accuracy', n_jobs=-1\n",
    ")\n",
    "grid_search.fit(X_train, y_train)\n",
    "\n",
    "best_model = grid_search.best_estimator_\n",
    "print(\"Mejores parámetros finales:\", grid_search.best_params_)\n",
    "print(\"Mejor puntuación final:\", grid_search.best_score_)\n",
    "\n",
    "# 7. Evaluación del modelo\n",
    "y_pred = best_model.predict(X_test)\n",
    "y_pred_proba = best_model.predict_proba(X_test)\n",
    "\n",
    "print(\"Accuracy:\", accuracy_score(y_test, y_pred))\n",
    "print(\"\\nClassification Report:\")\n",
    "print(classification_report(y_test, y_pred))\n",
    "\n",
    "# 8. Matriz de confusión\n",
    "cm = confusion_matrix(y_test, y_pred)\n",
    "plt.figure(figsize=(10, 8))\n",
    "sns.heatmap(cm, annot=True, fmt='d', cmap='Blues')\n",
    "plt.title('Matriz de Confusión')\n",
    "plt.ylabel('Etiqueta Verdadera')\n",
    "plt.xlabel('Etiqueta Predicha')\n",
    "plt.show()\n",
    "\n",
    "# 9. Curva ROC\n",
    "y_test_bin = label_binarize(y_test, classes=np.unique(y))\n",
    "n_classes = y_test_bin.shape[1]\n",
    "\n",
    "fpr = dict()\n",
    "tpr = dict()\n",
    "roc_auc = dict()\n",
    "\n",
    "for i in range(n_classes):\n",
    "    fpr[i], tpr[i], _ = roc_curve(y_test_bin[:, i], y_pred_proba[:, i])\n",
    "    roc_auc[i] = auc(fpr[i], tpr[i])\n",
    "\n",
    "plt.figure(figsize=(10, 8))\n",
    "colors = ['blue', 'red', 'green', 'orange']\n",
    "for i, color in zip(range(n_classes), colors):\n",
    "    plt.plot(fpr[i], tpr[i], color=color, lw=2,\n",
    "             label='ROC curve of class {0} (AUC = {1:0.2f})'.format(i, roc_auc[i]))\n",
    "plt.plot([0, 1], [0, 1], 'k--', lw=2)\n",
    "plt.xlim([0.0, 1.0])\n",
    "plt.ylim([0.0, 1.05])\n",
    "plt.xlabel('Tasa de Falsos Positivos')\n",
    "plt.ylabel('Tasa de Verdaderos Positivos')\n",
    "plt.title('Curva ROC para clasificación multiclase')\n",
    "plt.legend(loc=\"lower right\")\n",
    "plt.show()\n",
    "\n",
    "# 10. Validación Cruzada\n",
    "cv_scores = cross_val_score(best_model, X_train, y_train, cv=5)\n",
    "print(f\"Puntuaciones de validación cruzada: {cv_scores}\")\n",
    "print(f\"Media de validación cruzada: {cv_scores.mean():.4f} (+/- {cv_scores.std() * 2:.4f})\")\n",
    "\n",
    "# 11. Curva de aprendizaje\n",
    "from sklearn.model_selection import learning_curve\n",
    "\n",
    "train_sizes, train_scores, test_scores = learning_curve(\n",
    "    best_model, X_train, y_train, cv=5, n_jobs=-1,\n",
    "    train_sizes=np.linspace(0.1, 1.0, 10))\n",
    "\n",
    "train_scores_mean = np.mean(train_scores, axis=1)\n",
    "train_scores_std = np.std(train_scores, axis=1)\n",
    "test_scores_mean = np.mean(test_scores, axis=1)\n",
    "test_scores_std = np.std(test_scores, axis=1)\n",
    "\n",
    "plt.figure(figsize=(10, 6))\n",
    "plt.title(\"Curva de Aprendizaje\")\n",
    "plt.xlabel(\"Tamaño del conjunto de entrenamiento\")\n",
    "plt.ylabel(\"Score\")\n",
    "plt.grid()\n",
    "plt.fill_between(train_sizes, train_scores_mean - train_scores_std,\n",
    "                 train_scores_mean + train_scores_std, alpha=0.1, color=\"r\")\n",
    "plt.fill_between(train_sizes, test_scores_mean - test_scores_std,\n",
    "                 test_scores_mean + test_scores_std, alpha=0.1, color=\"g\")\n",
    "plt.plot(train_sizes, train_scores_mean, 'o-', color=\"r\", label=\"Training score\")\n",
    "plt.plot(train_sizes, test_scores_mean, 'o-', color=\"g\", label=\"Cross-validation score\")\n",
    "plt.legend(loc=\"best\")\n",
    "plt.show()"
   ]
  },
  {
   "cell_type": "code",
   "execution_count": null,
   "metadata": {},
   "outputs": [],
   "source": [
    "import pandas as pd\n",
    "import numpy as np\n",
    "from sklearn.model_selection import train_test_split, GridSearchCV, RandomizedSearchCV, cross_val_score, learning_curve, StratifiedKFold\n",
    "from sklearn.preprocessing import StandardScaler\n",
    "from sklearn.svm import SVC\n",
    "from sklearn.metrics import accuracy_score, classification_report, confusion_matrix, roc_curve, auc, precision_recall_curve, average_precision_score\n",
    "from sklearn.inspection import permutation_importance\n",
    "from sklearn.calibration import calibration_curve\n",
    "from sklearn.model_selection import validation_curve\n",
    "import matplotlib.pyplot as plt\n",
    "import seaborn as sns\n",
    "from scipy.stats import uniform, loguniform\n",
    "\n",
    "\n",
    "\n",
    "# Análisis de características importantes\n",
    "result = permutation_importance(best_model, X_test, y_test, n_repeats=10, random_state=42)\n",
    "importance = pd.DataFrame({'feature': X.columns, 'importance': result.importances_mean})\n",
    "importance = importance.sort_values('importance', ascending=False)\n",
    "\n",
    "plt.figure(figsize=(10, 6))\n",
    "sns.barplot(x='importance', y='feature', data=importance.head(15))\n",
    "plt.title('Top 15 Características Más Importantes')\n",
    "plt.show()\n",
    "\n",
    "# Curvas de calibración\n",
    "prob_pos = best_model.predict_proba(X_test)[:, 1]\n",
    "fraction_of_positives, mean_predicted_value = calibration_curve(y_test, prob_pos, n_bins=10)\n",
    "\n",
    "plt.figure(figsize=(10, 6))\n",
    "plt.plot([0, 1], [0, 1], linestyle='--')\n",
    "plt.plot(mean_predicted_value, fraction_of_positives, marker='.')\n",
    "plt.xlabel('Probabilidad predicha')\n",
    "plt.ylabel('Fracción de positivos')\n",
    "plt.title('Curva de Calibración')\n",
    "plt.show()\n",
    "\n",
    "# Análisis de errores\n",
    "y_pred = best_model.predict(X_test)\n",
    "incorrect = X_test[y_pred != y_test]\n",
    "print(\"Número de predicciones incorrectas:\", len(incorrect))\n",
    "print(\"Características de las predicciones incorrectas:\")\n",
    "print(incorrect.describe())\n",
    "\n",
    "# Validación cruzada estratificada\n",
    "cv = StratifiedKFold(n_splits=5, shuffle=True, random_state=42)\n",
    "cv_scores = cross_val_score(best_model, X_train, y_train, cv=cv)\n",
    "print(f\"Puntuaciones de validación cruzada estratificada: {cv_scores}\")\n",
    "print(f\"Media de validación cruzada estratificada: {cv_scores.mean():.4f} (+/- {cv_scores.std() * 2:.4f})\")\n",
    "\n",
    "# Curvas de precisión-recall\n",
    "precision = dict()\n",
    "recall = dict()\n",
    "average_precision = dict()\n",
    "\n",
    "for i in range(n_classes):\n",
    "    precision[i], recall[i], _ = precision_recall_curve(y_test_bin[:, i], y_pred_proba[:, i])\n",
    "    average_precision[i] = average_precision_score(y_test_bin[:, i], y_pred_proba[:, i])\n",
    "\n",
    "plt.figure(figsize=(10, 8))\n",
    "for i in range(n_classes):\n",
    "    plt.plot(recall[i], precision[i],\n",
    "             label=f'Precision-Recall curve of class {i} (AP = {average_precision[i]:0.2f})')\n",
    "plt.xlabel('Recall')\n",
    "plt.ylabel('Precision')\n",
    "plt.title('Curvas de Precisión-Recall para múltiples clases')\n",
    "plt.legend(loc=\"best\")\n",
    "plt.show()\n",
    "\n",
    "# Análisis de sensibilidad de hiperparámetros\n",
    "param_range = np.logspace(-3, 3, 7)\n",
    "train_scores, test_scores = validation_curve(\n",
    "    SVC(), X_train, y_train, param_name=\"C\", param_range=param_range,\n",
    "    cv=5, scoring=\"accuracy\", n_jobs=-1)\n",
    "\n",
    "plt.figure(figsize=(10, 6))\n",
    "plt.title(\"Curva de Validación para SVM\")\n",
    "plt.xlabel(\"C\")\n",
    "plt.ylabel(\"Score\")\n",
    "plt.semilogx(param_range, np.mean(train_scores, axis=1), label=\"Training score\")\n",
    "plt.semilogx(param_range, np.mean(test_scores, axis=1), label=\"Cross-validation score\")\n",
    "plt.legend(loc=\"best\")\n",
    "plt.show()\n",
    "\n",
    "#Tiempos de entrenamiento y predicción\n",
    "import time\n",
    "\n",
    "start_time = time.time()\n",
    "best_model.fit(X_train, y_train)\n",
    "train_time = time.time() - start_time\n",
    "\n",
    "start_time = time.time()\n",
    "best_model.predict(X_test)\n",
    "predict_time = time.time() - start_time\n",
    "\n",
    "print(f\"Tiempo de entrenamiento: {train_time:.2f} segundos\")\n",
    "print(f\"Tiempo de predicción: {predict_time:.2f} segundos\")\n",
    "\n",
    "#Pruebas de estabilidad\n",
    "from sklearn.model_selection import RepeatedStratifiedKFold\n",
    "\n",
    "rskf = RepeatedStratifiedKFold(n_splits=5, n_repeats=10, random_state=42)\n",
    "stability_scores = cross_val_score(best_model, X, y, cv=rskf)\n",
    "\n",
    "print(\"Estadísticas de estabilidad:\")\n",
    "print(f\"Media: {np.mean(stability_scores):.4f}\")\n",
    "print(f\"Desviación estándar: {np.std(stability_scores):.4f}\")\n",
    "print(f\"Mínimo: {np.min(stability_scores):.4f}\")\n",
    "print(f\"Máximo: {np.max(stability_scores):.4f}\")"
   ]
  }
 ],
 "metadata": {
  "kernelspec": {
   "display_name": "Python 3 (ipykernel)",
   "language": "python",
   "name": "python3"
  },
  "language_info": {
   "codemirror_mode": {
    "name": "ipython",
    "version": 3
   },
   "file_extension": ".py",
   "mimetype": "text/x-python",
   "name": "python",
   "nbconvert_exporter": "python",
   "pygments_lexer": "ipython3",
   "version": "3.9.6"
  }
 },
 "nbformat": 4,
 "nbformat_minor": 4
}
